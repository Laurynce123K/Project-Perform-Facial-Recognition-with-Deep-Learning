{
 "cells": [
  {
   "cell_type": "markdown",
   "metadata": {
    "tags": []
   },
   "source": [
    "## FACE RECOGNITION WITH CNN"
   ]
  },
  {
   "cell_type": "markdown",
   "metadata": {},
   "source": [
    "### Step1 : You should need to import libraries"
   ]
  },
  {
   "cell_type": "code",
   "execution_count": 1,
   "metadata": {},
   "outputs": [],
   "source": [
    "import keras \n",
    "from keras.models import Sequential\n",
    "from keras.layers import Dense, Conv2D, Flatten, Dropout, MaxPooling2D\n",
    "from tensorflow.keras.optimizers import Adam\n",
    "\n",
    "from sklearn.model_selection import train_test_split\n",
    "import numpy as np\n",
    "import matplotlib.pyplot as plt \n",
    "import pandas as pd\n",
    "from sklearn.metrics import accuracy_score, confusion_matrix, classification_report"
   ]
  },
  {
   "cell_type": "markdown",
   "metadata": {},
   "source": [
    "### Step2 : After loading the data you have to normalize"
   ]
  },
  {
   "cell_type": "code",
   "execution_count": 2,
   "metadata": {},
   "outputs": [
    {
     "name": "stdout",
     "output_type": "stream",
     "text": [
      "(240, 10304)\n",
      "(160, 10304)\n",
      "(240,)\n",
      "(160,)\n"
     ]
    }
   ],
   "source": [
    "# load dataset\n",
    "data = np.load(\"ORL_faces.npz\")\n",
    "# load Train and Test images \n",
    "x_train = data['trainX']\n",
    "x_test = data['testX']\n",
    "\n",
    "# Normalize every image \n",
    "x_train = np.array(x_train,dtype='float32')/255\n",
    "x_test = np.array(x_test,dtype='float32')/255\n",
    "\n",
    "# Load the label images \n",
    "y_train = data['trainY']\n",
    "y_test = data['testY']\n",
    "\n",
    "print(x_train.shape)\n",
    "print(x_test.shape)\n",
    "print(y_train.shape)\n",
    "print(y_test.shape)"
   ]
  },
  {
   "cell_type": "markdown",
   "metadata": {},
   "source": [
    "### Step3 : Split the dataset"
   ]
  },
  {
   "cell_type": "markdown",
   "metadata": {},
   "source": [
    "##### Validation Dataset : this data set is used to minimize overfitting."
   ]
  },
  {
   "cell_type": "code",
   "execution_count": 3,
   "metadata": {},
   "outputs": [
    {
     "name": "stdout",
     "output_type": "stream",
     "text": [
      "(228, 10304)\n",
      "(228,)\n"
     ]
    }
   ],
   "source": [
    "# We usually use 30% of every dataset as validation dataset but here we only use 5% becauce the number of images is very low.\n",
    "x_train,x_valid,y_train,y_valid = train_test_split(x_train,y_train,test_size=.05,random_state=1024)\n",
    "print(x_train.shape)\n",
    "print(y_train.shape)"
   ]
  },
  {
   "cell_type": "markdown",
   "metadata": {},
   "source": [
    "### Step4 : Transform the images to equal sizes to feed in CNN"
   ]
  },
  {
   "cell_type": "code",
   "execution_count": 4,
   "metadata": {},
   "outputs": [
    {
     "name": "stdout",
     "output_type": "stream",
     "text": [
      "x_train shape : (228, 112, 92, 1)\n",
      "x_test shape : (160, 112, 92, 1)\n"
     ]
    }
   ],
   "source": [
    "imp_rows = 112\n",
    "imp_cols = 92\n",
    "batch_size = 512\n",
    "im_shape = (imp_rows,imp_cols,1)\n",
    "# Change the size of image\n",
    "x_train = x_train.reshape(x_train.shape[0],*im_shape)\n",
    "x_test = x_test.reshape(x_test.shape[0],*im_shape)\n",
    "x_valid = x_valid.reshape(x_valid.shape[0], *im_shape)\n",
    "print('x_train shape : {}'.format(x_train.shape))\n",
    "print('x_test shape : {}'.format(x_test.shape))"
   ]
  },
  {
   "cell_type": "markdown",
   "metadata": {},
   "source": [
    "### Step5\n",
    "Build a CNN model that has 3 main layers:\n",
    "\n",
    "- Convolutional Layer\n",
    "- Pooling Layer\n",
    "- Fully Connected Layer"
   ]
  },
  {
   "cell_type": "code",
   "execution_count": 5,
   "metadata": {},
   "outputs": [],
   "source": [
    "CNN_model = Sequential()\n",
    "CNN_model.add(Conv2D(filters=36,kernel_size=7,activation='relu',input_shape=im_shape))\n",
    "CNN_model.add(MaxPooling2D(pool_size=2))\n",
    "CNN_model.add(Conv2D(filters=54,kernel_size=(5,5),activation='relu',input_shape=im_shape))\n",
    "CNN_model.add(MaxPooling2D(pool_size=2))\n",
    "CNN_model.add(Flatten())\n",
    "CNN_model.add(Dense(2024,activation='relu'))\n",
    "CNN_model.add(Dropout(0.5))    \n",
    "CNN_model.add(Dense(1024,activation='relu'))\n",
    "CNN_model.add(Dropout(0.5))\n",
    "CNN_model.add(Dense(512,activation='relu'))\n",
    "CNN_model.add(Dropout(0.5))\n",
    "CNN_model.add(Dense(20,activation='Softmax'))#20 is the number of outputs"
   ]
  },
  {
   "cell_type": "code",
   "execution_count": 6,
   "metadata": {},
   "outputs": [
    {
     "name": "stderr",
     "output_type": "stream",
     "text": [
      "/usr/local/lib/python3.7/site-packages/keras/optimizer_v2/adam.py:105: UserWarning: The `lr` argument is deprecated, use `learning_rate` instead.\n",
      "  super(Adam, self).__init__(name, **kwargs)\n"
     ]
    }
   ],
   "source": [
    "CNN_model.compile(\n",
    "    loss='sparse_categorical_crossentropy',\n",
    "    optimizer=Adam(lr=0.0001),\n",
    "    metrics=['accuracy']\n",
    ")"
   ]
  },
  {
   "cell_type": "code",
   "execution_count": 7,
   "metadata": {},
   "outputs": [
    {
     "name": "stdout",
     "output_type": "stream",
     "text": [
      "Model: \"sequential\"\n",
      "_________________________________________________________________\n",
      " Layer (type)                Output Shape              Param #   \n",
      "=================================================================\n",
      " conv2d (Conv2D)             (None, 106, 86, 36)       1800      \n",
      "                                                                 \n",
      " max_pooling2d (MaxPooling2D  (None, 53, 43, 36)       0         \n",
      " )                                                               \n",
      "                                                                 \n",
      " conv2d_1 (Conv2D)           (None, 49, 39, 54)        48654     \n",
      "                                                                 \n",
      " max_pooling2d_1 (MaxPooling  (None, 24, 19, 54)       0         \n",
      " 2D)                                                             \n",
      "                                                                 \n",
      " flatten (Flatten)           (None, 24624)             0         \n",
      "                                                                 \n",
      " dense (Dense)               (None, 2024)              49841000  \n",
      "                                                                 \n",
      " dropout (Dropout)           (None, 2024)              0         \n",
      "                                                                 \n",
      " dense_1 (Dense)             (None, 1024)              2073600   \n",
      "                                                                 \n",
      " dropout_1 (Dropout)         (None, 1024)              0         \n",
      "                                                                 \n",
      " dense_2 (Dense)             (None, 512)               524800    \n",
      "                                                                 \n",
      " dropout_2 (Dropout)         (None, 512)               0         \n",
      "                                                                 \n",
      " dense_3 (Dense)             (None, 20)                10260     \n",
      "                                                                 \n",
      "=================================================================\n",
      "Total params: 52,500,114\n",
      "Trainable params: 52,500,114\n",
      "Non-trainable params: 0\n",
      "_________________________________________________________________\n"
     ]
    }
   ],
   "source": [
    "CNN_model.summary()"
   ]
  },
  {
   "cell_type": "markdown",
   "metadata": {},
   "source": [
    "### Step6 : Train the model"
   ]
  },
  {
   "cell_type": "code",
   "execution_count": 8,
   "metadata": {},
   "outputs": [
    {
     "name": "stdout",
     "output_type": "stream",
     "text": [
      "Epoch 1/250\n",
      "1/1 [==============================] - 13s 13s/step - loss: 3.0044 - accuracy: 0.0351 - val_loss: 3.0124 - val_accuracy: 0.0000e+00\n",
      "Epoch 2/250\n",
      "1/1 [==============================] - 6s 6s/step - loss: 2.9922 - accuracy: 0.0482 - val_loss: 3.0184 - val_accuracy: 0.0000e+00\n",
      "Epoch 3/250\n",
      "1/1 [==============================] - 6s 6s/step - loss: 2.9845 - accuracy: 0.0526 - val_loss: 3.0162 - val_accuracy: 0.0000e+00\n",
      "Epoch 4/250\n",
      "1/1 [==============================] - 6s 6s/step - loss: 2.9871 - accuracy: 0.0789 - val_loss: 3.0198 - val_accuracy: 0.0000e+00\n",
      "Epoch 5/250\n",
      "1/1 [==============================] - 6s 6s/step - loss: 2.9678 - accuracy: 0.0482 - val_loss: 3.0251 - val_accuracy: 0.0000e+00\n",
      "Epoch 6/250\n",
      "1/1 [==============================] - 6s 6s/step - loss: 3.0016 - accuracy: 0.0263 - val_loss: 3.0219 - val_accuracy: 0.0000e+00\n",
      "Epoch 7/250\n",
      "1/1 [==============================] - 6s 6s/step - loss: 2.9850 - accuracy: 0.0833 - val_loss: 3.0147 - val_accuracy: 0.0000e+00\n",
      "Epoch 8/250\n",
      "1/1 [==============================] - 6s 6s/step - loss: 2.9665 - accuracy: 0.0439 - val_loss: 3.0092 - val_accuracy: 0.0000e+00\n",
      "Epoch 9/250\n",
      "1/1 [==============================] - 6s 6s/step - loss: 2.9566 - accuracy: 0.0746 - val_loss: 3.0065 - val_accuracy: 0.0000e+00\n",
      "Epoch 10/250\n",
      "1/1 [==============================] - 6s 6s/step - loss: 2.9795 - accuracy: 0.0746 - val_loss: 3.0023 - val_accuracy: 0.1667\n",
      "Epoch 11/250\n",
      "1/1 [==============================] - 6s 6s/step - loss: 2.9576 - accuracy: 0.0702 - val_loss: 2.9990 - val_accuracy: 0.1667\n",
      "Epoch 12/250\n",
      "1/1 [==============================] - 6s 6s/step - loss: 2.9698 - accuracy: 0.0439 - val_loss: 2.9952 - val_accuracy: 0.1667\n",
      "Epoch 13/250\n",
      "1/1 [==============================] - 6s 6s/step - loss: 2.9648 - accuracy: 0.0877 - val_loss: 2.9915 - val_accuracy: 0.1667\n",
      "Epoch 14/250\n",
      "1/1 [==============================] - 6s 6s/step - loss: 2.9597 - accuracy: 0.0833 - val_loss: 2.9865 - val_accuracy: 0.1667\n",
      "Epoch 15/250\n",
      "1/1 [==============================] - 6s 6s/step - loss: 2.9246 - accuracy: 0.1316 - val_loss: 2.9818 - val_accuracy: 0.1667\n",
      "Epoch 16/250\n",
      "1/1 [==============================] - 6s 6s/step - loss: 2.9287 - accuracy: 0.1272 - val_loss: 2.9764 - val_accuracy: 0.0833\n",
      "Epoch 17/250\n",
      "1/1 [==============================] - 6s 6s/step - loss: 2.9132 - accuracy: 0.1491 - val_loss: 2.9693 - val_accuracy: 0.0833\n",
      "Epoch 18/250\n",
      "1/1 [==============================] - 6s 6s/step - loss: 2.9206 - accuracy: 0.1140 - val_loss: 2.9601 - val_accuracy: 0.0833\n",
      "Epoch 19/250\n",
      "1/1 [==============================] - 6s 6s/step - loss: 2.8949 - accuracy: 0.1974 - val_loss: 2.9500 - val_accuracy: 0.0833\n",
      "Epoch 20/250\n",
      "1/1 [==============================] - 6s 6s/step - loss: 2.9132 - accuracy: 0.1140 - val_loss: 2.9393 - val_accuracy: 0.0833\n",
      "Epoch 21/250\n",
      "1/1 [==============================] - 6s 6s/step - loss: 2.8986 - accuracy: 0.1535 - val_loss: 2.9272 - val_accuracy: 0.0833\n",
      "Epoch 22/250\n",
      "1/1 [==============================] - 6s 6s/step - loss: 2.8751 - accuracy: 0.1842 - val_loss: 2.9141 - val_accuracy: 0.0833\n",
      "Epoch 23/250\n",
      "1/1 [==============================] - 6s 6s/step - loss: 2.8370 - accuracy: 0.2149 - val_loss: 2.8988 - val_accuracy: 0.0833\n",
      "Epoch 24/250\n",
      "1/1 [==============================] - 6s 6s/step - loss: 2.8529 - accuracy: 0.1711 - val_loss: 2.8827 - val_accuracy: 0.0833\n",
      "Epoch 25/250\n",
      "1/1 [==============================] - 6s 6s/step - loss: 2.7899 - accuracy: 0.2500 - val_loss: 2.8663 - val_accuracy: 0.0833\n",
      "Epoch 26/250\n",
      "1/1 [==============================] - 6s 6s/step - loss: 2.8155 - accuracy: 0.1754 - val_loss: 2.8438 - val_accuracy: 0.2500\n",
      "Epoch 27/250\n",
      "1/1 [==============================] - 6s 6s/step - loss: 2.7752 - accuracy: 0.2018 - val_loss: 2.8161 - val_accuracy: 0.2500\n",
      "Epoch 28/250\n",
      "1/1 [==============================] - 6s 6s/step - loss: 2.7551 - accuracy: 0.1667 - val_loss: 2.7805 - val_accuracy: 0.2500\n",
      "Epoch 29/250\n",
      "1/1 [==============================] - 6s 6s/step - loss: 2.7075 - accuracy: 0.2544 - val_loss: 2.7401 - val_accuracy: 0.2500\n",
      "Epoch 30/250\n",
      "1/1 [==============================] - 6s 6s/step - loss: 2.7047 - accuracy: 0.2412 - val_loss: 2.6962 - val_accuracy: 0.3333\n",
      "Epoch 31/250\n",
      "1/1 [==============================] - 6s 6s/step - loss: 2.6507 - accuracy: 0.2675 - val_loss: 2.6505 - val_accuracy: 0.3333\n",
      "Epoch 32/250\n",
      "1/1 [==============================] - 6s 6s/step - loss: 2.6105 - accuracy: 0.2237 - val_loss: 2.6000 - val_accuracy: 0.4167\n",
      "Epoch 33/250\n",
      "1/1 [==============================] - 6s 6s/step - loss: 2.6489 - accuracy: 0.2544 - val_loss: 2.5532 - val_accuracy: 0.4167\n",
      "Epoch 34/250\n",
      "1/1 [==============================] - 6s 6s/step - loss: 2.5888 - accuracy: 0.2588 - val_loss: 2.5078 - val_accuracy: 0.5000\n",
      "Epoch 35/250\n",
      "1/1 [==============================] - 6s 6s/step - loss: 2.4556 - accuracy: 0.3202 - val_loss: 2.4555 - val_accuracy: 0.5000\n",
      "Epoch 36/250\n",
      "1/1 [==============================] - 6s 6s/step - loss: 2.4471 - accuracy: 0.3158 - val_loss: 2.3947 - val_accuracy: 0.5000\n",
      "Epoch 37/250\n",
      "1/1 [==============================] - 6s 6s/step - loss: 2.4743 - accuracy: 0.3158 - val_loss: 2.3346 - val_accuracy: 0.5000\n",
      "Epoch 38/250\n",
      "1/1 [==============================] - 6s 6s/step - loss: 2.3554 - accuracy: 0.3904 - val_loss: 2.2752 - val_accuracy: 0.5000\n",
      "Epoch 39/250\n",
      "1/1 [==============================] - 6s 6s/step - loss: 2.3502 - accuracy: 0.3991 - val_loss: 2.2134 - val_accuracy: 0.5000\n",
      "Epoch 40/250\n",
      "1/1 [==============================] - 6s 6s/step - loss: 2.2483 - accuracy: 0.3772 - val_loss: 2.1478 - val_accuracy: 0.5000\n",
      "Epoch 41/250\n",
      "1/1 [==============================] - 6s 6s/step - loss: 2.2883 - accuracy: 0.3553 - val_loss: 2.0861 - val_accuracy: 0.5000\n",
      "Epoch 42/250\n",
      "1/1 [==============================] - 6s 6s/step - loss: 2.1549 - accuracy: 0.4167 - val_loss: 2.0204 - val_accuracy: 0.5000\n",
      "Epoch 43/250\n",
      "1/1 [==============================] - 6s 6s/step - loss: 2.0133 - accuracy: 0.5044 - val_loss: 1.9370 - val_accuracy: 0.5000\n",
      "Epoch 44/250\n",
      "1/1 [==============================] - 6s 6s/step - loss: 2.0030 - accuracy: 0.4781 - val_loss: 1.8482 - val_accuracy: 0.5000\n",
      "Epoch 45/250\n",
      "1/1 [==============================] - 6s 6s/step - loss: 1.8719 - accuracy: 0.5307 - val_loss: 1.7554 - val_accuracy: 0.5000\n",
      "Epoch 46/250\n",
      "1/1 [==============================] - 6s 6s/step - loss: 1.8754 - accuracy: 0.5219 - val_loss: 1.6688 - val_accuracy: 0.5000\n",
      "Epoch 47/250\n",
      "1/1 [==============================] - 6s 6s/step - loss: 1.7812 - accuracy: 0.4956 - val_loss: 1.5897 - val_accuracy: 0.5000\n",
      "Epoch 48/250\n",
      "1/1 [==============================] - 6s 6s/step - loss: 1.7462 - accuracy: 0.5395 - val_loss: 1.5023 - val_accuracy: 0.5833\n",
      "Epoch 49/250\n",
      "1/1 [==============================] - 6s 6s/step - loss: 1.7086 - accuracy: 0.5132 - val_loss: 1.4321 - val_accuracy: 0.5833\n",
      "Epoch 50/250\n",
      "1/1 [==============================] - 6s 6s/step - loss: 1.6521 - accuracy: 0.5351 - val_loss: 1.3690 - val_accuracy: 0.6667\n",
      "Epoch 51/250\n",
      "1/1 [==============================] - 6s 6s/step - loss: 1.5099 - accuracy: 0.5702 - val_loss: 1.2982 - val_accuracy: 0.6667\n",
      "Epoch 52/250\n",
      "1/1 [==============================] - 6s 6s/step - loss: 1.5979 - accuracy: 0.5439 - val_loss: 1.2328 - val_accuracy: 0.7500\n",
      "Epoch 53/250\n",
      "1/1 [==============================] - 6s 6s/step - loss: 1.4055 - accuracy: 0.6404 - val_loss: 1.1588 - val_accuracy: 0.7500\n",
      "Epoch 54/250\n",
      "1/1 [==============================] - 6s 6s/step - loss: 1.3228 - accuracy: 0.6667 - val_loss: 1.0797 - val_accuracy: 0.6667\n",
      "Epoch 55/250\n",
      "1/1 [==============================] - 6s 6s/step - loss: 1.2934 - accuracy: 0.6535 - val_loss: 1.0107 - val_accuracy: 0.6667\n",
      "Epoch 56/250\n",
      "1/1 [==============================] - 6s 6s/step - loss: 1.2982 - accuracy: 0.6053 - val_loss: 0.9629 - val_accuracy: 0.8333\n",
      "Epoch 57/250\n",
      "1/1 [==============================] - 6s 6s/step - loss: 1.1414 - accuracy: 0.6930 - val_loss: 0.9186 - val_accuracy: 0.8333\n",
      "Epoch 58/250\n",
      "1/1 [==============================] - 6s 6s/step - loss: 1.1004 - accuracy: 0.6974 - val_loss: 0.8668 - val_accuracy: 0.9167\n",
      "Epoch 59/250\n",
      "1/1 [==============================] - 6s 6s/step - loss: 1.0822 - accuracy: 0.7105 - val_loss: 0.8120 - val_accuracy: 0.9167\n",
      "Epoch 60/250\n",
      "1/1 [==============================] - 6s 6s/step - loss: 1.0710 - accuracy: 0.6798 - val_loss: 0.7585 - val_accuracy: 0.9167\n",
      "Epoch 61/250\n",
      "1/1 [==============================] - 6s 6s/step - loss: 0.9831 - accuracy: 0.7456 - val_loss: 0.6942 - val_accuracy: 0.9167\n",
      "Epoch 62/250\n",
      "1/1 [==============================] - 6s 6s/step - loss: 0.8766 - accuracy: 0.7544 - val_loss: 0.6493 - val_accuracy: 1.0000\n",
      "Epoch 63/250\n",
      "1/1 [==============================] - 6s 6s/step - loss: 0.9132 - accuracy: 0.7500 - val_loss: 0.5887 - val_accuracy: 1.0000\n",
      "Epoch 64/250\n",
      "1/1 [==============================] - 6s 6s/step - loss: 0.7693 - accuracy: 0.7851 - val_loss: 0.5367 - val_accuracy: 1.0000\n",
      "Epoch 65/250\n",
      "1/1 [==============================] - 6s 6s/step - loss: 0.7966 - accuracy: 0.7939 - val_loss: 0.4923 - val_accuracy: 1.0000\n",
      "Epoch 66/250\n",
      "1/1 [==============================] - 6s 6s/step - loss: 0.6727 - accuracy: 0.7763 - val_loss: 0.4335 - val_accuracy: 1.0000\n",
      "Epoch 67/250\n",
      "1/1 [==============================] - 6s 6s/step - loss: 0.8085 - accuracy: 0.7632 - val_loss: 0.3883 - val_accuracy: 1.0000\n",
      "Epoch 68/250\n",
      "1/1 [==============================] - 6s 6s/step - loss: 0.6329 - accuracy: 0.8158 - val_loss: 0.3586 - val_accuracy: 1.0000\n",
      "Epoch 69/250\n",
      "1/1 [==============================] - 6s 6s/step - loss: 0.6426 - accuracy: 0.8289 - val_loss: 0.3323 - val_accuracy: 1.0000\n",
      "Epoch 70/250\n",
      "1/1 [==============================] - 6s 6s/step - loss: 0.6546 - accuracy: 0.8289 - val_loss: 0.3244 - val_accuracy: 1.0000\n",
      "Epoch 71/250\n",
      "1/1 [==============================] - 6s 6s/step - loss: 0.6309 - accuracy: 0.8246 - val_loss: 0.3341 - val_accuracy: 0.9167\n",
      "Epoch 72/250\n",
      "1/1 [==============================] - 6s 6s/step - loss: 0.5339 - accuracy: 0.8904 - val_loss: 0.3322 - val_accuracy: 0.9167\n",
      "Epoch 73/250\n",
      "1/1 [==============================] - 6s 6s/step - loss: 0.4914 - accuracy: 0.8947 - val_loss: 0.3267 - val_accuracy: 0.9167\n",
      "Epoch 74/250\n",
      "1/1 [==============================] - 6s 6s/step - loss: 0.4575 - accuracy: 0.8904 - val_loss: 0.3041 - val_accuracy: 0.9167\n",
      "Epoch 75/250\n",
      "1/1 [==============================] - 6s 6s/step - loss: 0.4421 - accuracy: 0.8772 - val_loss: 0.2713 - val_accuracy: 0.9167\n",
      "Epoch 76/250\n",
      "1/1 [==============================] - 6s 6s/step - loss: 0.4368 - accuracy: 0.8816 - val_loss: 0.2331 - val_accuracy: 1.0000\n",
      "Epoch 77/250\n",
      "1/1 [==============================] - 6s 6s/step - loss: 0.4052 - accuracy: 0.8772 - val_loss: 0.2029 - val_accuracy: 1.0000\n",
      "Epoch 78/250\n",
      "1/1 [==============================] - 6s 6s/step - loss: 0.3480 - accuracy: 0.9079 - val_loss: 0.1736 - val_accuracy: 1.0000\n",
      "Epoch 79/250\n",
      "1/1 [==============================] - 6s 6s/step - loss: 0.3688 - accuracy: 0.8991 - val_loss: 0.1491 - val_accuracy: 1.0000\n",
      "Epoch 80/250\n",
      "1/1 [==============================] - 6s 6s/step - loss: 0.3873 - accuracy: 0.8904 - val_loss: 0.1312 - val_accuracy: 1.0000\n",
      "Epoch 81/250\n",
      "1/1 [==============================] - 6s 6s/step - loss: 0.3534 - accuracy: 0.9254 - val_loss: 0.1166 - val_accuracy: 1.0000\n",
      "Epoch 82/250\n",
      "1/1 [==============================] - 6s 6s/step - loss: 0.3083 - accuracy: 0.9342 - val_loss: 0.1064 - val_accuracy: 1.0000\n",
      "Epoch 83/250\n",
      "1/1 [==============================] - 6s 6s/step - loss: 0.3102 - accuracy: 0.9035 - val_loss: 0.0937 - val_accuracy: 1.0000\n",
      "Epoch 84/250\n",
      "1/1 [==============================] - 6s 6s/step - loss: 0.3041 - accuracy: 0.9561 - val_loss: 0.0835 - val_accuracy: 1.0000\n",
      "Epoch 85/250\n",
      "1/1 [==============================] - 6s 6s/step - loss: 0.3122 - accuracy: 0.8904 - val_loss: 0.0739 - val_accuracy: 1.0000\n",
      "Epoch 86/250\n",
      "1/1 [==============================] - 6s 6s/step - loss: 0.2279 - accuracy: 0.9474 - val_loss: 0.0671 - val_accuracy: 1.0000\n",
      "Epoch 87/250\n",
      "1/1 [==============================] - 6s 6s/step - loss: 0.2367 - accuracy: 0.9561 - val_loss: 0.0617 - val_accuracy: 1.0000\n",
      "Epoch 88/250\n",
      "1/1 [==============================] - 6s 6s/step - loss: 0.2538 - accuracy: 0.9386 - val_loss: 0.0548 - val_accuracy: 1.0000\n",
      "Epoch 89/250\n",
      "1/1 [==============================] - 6s 6s/step - loss: 0.2226 - accuracy: 0.9430 - val_loss: 0.0499 - val_accuracy: 1.0000\n",
      "Epoch 90/250\n",
      "1/1 [==============================] - 6s 6s/step - loss: 0.2393 - accuracy: 0.9342 - val_loss: 0.0458 - val_accuracy: 1.0000\n",
      "Epoch 91/250\n",
      "1/1 [==============================] - 6s 6s/step - loss: 0.1905 - accuracy: 0.9561 - val_loss: 0.0439 - val_accuracy: 1.0000\n",
      "Epoch 92/250\n",
      "1/1 [==============================] - 6s 6s/step - loss: 0.1904 - accuracy: 0.9386 - val_loss: 0.0441 - val_accuracy: 1.0000\n",
      "Epoch 93/250\n",
      "1/1 [==============================] - 6s 6s/step - loss: 0.1870 - accuracy: 0.9561 - val_loss: 0.0448 - val_accuracy: 1.0000\n",
      "Epoch 94/250\n",
      "1/1 [==============================] - 6s 6s/step - loss: 0.2154 - accuracy: 0.9298 - val_loss: 0.0464 - val_accuracy: 1.0000\n",
      "Epoch 95/250\n",
      "1/1 [==============================] - 6s 6s/step - loss: 0.1673 - accuracy: 0.9649 - val_loss: 0.0484 - val_accuracy: 1.0000\n",
      "Epoch 96/250\n",
      "1/1 [==============================] - 6s 6s/step - loss: 0.1289 - accuracy: 0.9693 - val_loss: 0.0524 - val_accuracy: 1.0000\n",
      "Epoch 97/250\n",
      "1/1 [==============================] - 6s 6s/step - loss: 0.1425 - accuracy: 0.9781 - val_loss: 0.0441 - val_accuracy: 1.0000\n",
      "Epoch 98/250\n",
      "1/1 [==============================] - 6s 6s/step - loss: 0.1284 - accuracy: 0.9693 - val_loss: 0.0322 - val_accuracy: 1.0000\n",
      "Epoch 99/250\n",
      "1/1 [==============================] - 6s 6s/step - loss: 0.1373 - accuracy: 0.9781 - val_loss: 0.0317 - val_accuracy: 1.0000\n",
      "Epoch 100/250\n",
      "1/1 [==============================] - 6s 6s/step - loss: 0.1600 - accuracy: 0.9605 - val_loss: 0.0276 - val_accuracy: 1.0000\n",
      "Epoch 101/250\n",
      "1/1 [==============================] - 6s 6s/step - loss: 0.0803 - accuracy: 0.9912 - val_loss: 0.0234 - val_accuracy: 1.0000\n",
      "Epoch 102/250\n",
      "1/1 [==============================] - 6s 6s/step - loss: 0.1455 - accuracy: 0.9649 - val_loss: 0.0238 - val_accuracy: 1.0000\n",
      "Epoch 103/250\n",
      "1/1 [==============================] - 6s 6s/step - loss: 0.1173 - accuracy: 0.9737 - val_loss: 0.0214 - val_accuracy: 1.0000\n",
      "Epoch 104/250\n",
      "1/1 [==============================] - 6s 6s/step - loss: 0.1696 - accuracy: 0.9430 - val_loss: 0.0163 - val_accuracy: 1.0000\n",
      "Epoch 105/250\n",
      "1/1 [==============================] - 6s 6s/step - loss: 0.1131 - accuracy: 0.9737 - val_loss: 0.0139 - val_accuracy: 1.0000\n",
      "Epoch 106/250\n",
      "1/1 [==============================] - 6s 6s/step - loss: 0.0947 - accuracy: 0.9737 - val_loss: 0.0156 - val_accuracy: 1.0000\n",
      "Epoch 107/250\n",
      "1/1 [==============================] - 6s 6s/step - loss: 0.1300 - accuracy: 0.9649 - val_loss: 0.0147 - val_accuracy: 1.0000\n",
      "Epoch 108/250\n",
      "1/1 [==============================] - 6s 6s/step - loss: 0.0791 - accuracy: 0.9956 - val_loss: 0.0130 - val_accuracy: 1.0000\n",
      "Epoch 109/250\n",
      "1/1 [==============================] - 6s 6s/step - loss: 0.0909 - accuracy: 0.9825 - val_loss: 0.0134 - val_accuracy: 1.0000\n",
      "Epoch 110/250\n",
      "1/1 [==============================] - 6s 6s/step - loss: 0.0675 - accuracy: 0.9956 - val_loss: 0.0161 - val_accuracy: 1.0000\n",
      "Epoch 111/250\n",
      "1/1 [==============================] - 6s 6s/step - loss: 0.1513 - accuracy: 0.9737 - val_loss: 0.0140 - val_accuracy: 1.0000\n",
      "Epoch 112/250\n",
      "1/1 [==============================] - 6s 6s/step - loss: 0.0766 - accuracy: 0.9912 - val_loss: 0.0110 - val_accuracy: 1.0000\n",
      "Epoch 113/250\n",
      "1/1 [==============================] - 6s 6s/step - loss: 0.0761 - accuracy: 0.9912 - val_loss: 0.0109 - val_accuracy: 1.0000\n",
      "Epoch 114/250\n",
      "1/1 [==============================] - 6s 6s/step - loss: 0.0705 - accuracy: 0.9868 - val_loss: 0.0125 - val_accuracy: 1.0000\n",
      "Epoch 115/250\n",
      "1/1 [==============================] - 6s 6s/step - loss: 0.0871 - accuracy: 0.9825 - val_loss: 0.0138 - val_accuracy: 1.0000\n",
      "Epoch 116/250\n",
      "1/1 [==============================] - 6s 6s/step - loss: 0.0807 - accuracy: 0.9781 - val_loss: 0.0140 - val_accuracy: 1.0000\n",
      "Epoch 117/250\n",
      "1/1 [==============================] - 6s 6s/step - loss: 0.0863 - accuracy: 0.9825 - val_loss: 0.0161 - val_accuracy: 1.0000\n",
      "Epoch 118/250\n",
      "1/1 [==============================] - 6s 6s/step - loss: 0.0936 - accuracy: 0.9737 - val_loss: 0.0178 - val_accuracy: 1.0000\n",
      "Epoch 119/250\n",
      "1/1 [==============================] - 6s 6s/step - loss: 0.0664 - accuracy: 0.9825 - val_loss: 0.0180 - val_accuracy: 1.0000\n",
      "Epoch 120/250\n",
      "1/1 [==============================] - 6s 6s/step - loss: 0.0528 - accuracy: 0.9956 - val_loss: 0.0160 - val_accuracy: 1.0000\n",
      "Epoch 121/250\n",
      "1/1 [==============================] - 6s 6s/step - loss: 0.0671 - accuracy: 0.9912 - val_loss: 0.0132 - val_accuracy: 1.0000\n",
      "Epoch 122/250\n",
      "1/1 [==============================] - 6s 6s/step - loss: 0.0538 - accuracy: 0.9956 - val_loss: 0.0117 - val_accuracy: 1.0000\n",
      "Epoch 123/250\n",
      "1/1 [==============================] - 6s 6s/step - loss: 0.0594 - accuracy: 0.9825 - val_loss: 0.0110 - val_accuracy: 1.0000\n",
      "Epoch 124/250\n",
      "1/1 [==============================] - 6s 6s/step - loss: 0.0604 - accuracy: 0.9868 - val_loss: 0.0108 - val_accuracy: 1.0000\n",
      "Epoch 125/250\n",
      "1/1 [==============================] - 6s 6s/step - loss: 0.0686 - accuracy: 0.9825 - val_loss: 0.0106 - val_accuracy: 1.0000\n",
      "Epoch 126/250\n",
      "1/1 [==============================] - 6s 6s/step - loss: 0.0696 - accuracy: 0.9781 - val_loss: 0.0104 - val_accuracy: 1.0000\n",
      "Epoch 127/250\n",
      "1/1 [==============================] - 6s 6s/step - loss: 0.0557 - accuracy: 0.9912 - val_loss: 0.0099 - val_accuracy: 1.0000\n",
      "Epoch 128/250\n",
      "1/1 [==============================] - 6s 6s/step - loss: 0.0704 - accuracy: 0.9825 - val_loss: 0.0093 - val_accuracy: 1.0000\n",
      "Epoch 129/250\n",
      "1/1 [==============================] - 6s 6s/step - loss: 0.0578 - accuracy: 0.9825 - val_loss: 0.0088 - val_accuracy: 1.0000\n",
      "Epoch 130/250\n",
      "1/1 [==============================] - 6s 6s/step - loss: 0.0663 - accuracy: 0.9868 - val_loss: 0.0087 - val_accuracy: 1.0000\n",
      "Epoch 131/250\n",
      "1/1 [==============================] - 6s 6s/step - loss: 0.0618 - accuracy: 0.9868 - val_loss: 0.0089 - val_accuracy: 1.0000\n",
      "Epoch 132/250\n",
      "1/1 [==============================] - 6s 6s/step - loss: 0.0486 - accuracy: 0.9956 - val_loss: 0.0090 - val_accuracy: 1.0000\n",
      "Epoch 133/250\n",
      "1/1 [==============================] - 6s 6s/step - loss: 0.0399 - accuracy: 0.9956 - val_loss: 0.0088 - val_accuracy: 1.0000\n",
      "Epoch 134/250\n",
      "1/1 [==============================] - 6s 6s/step - loss: 0.0631 - accuracy: 0.9825 - val_loss: 0.0074 - val_accuracy: 1.0000\n",
      "Epoch 135/250\n",
      "1/1 [==============================] - 6s 6s/step - loss: 0.0441 - accuracy: 0.9868 - val_loss: 0.0066 - val_accuracy: 1.0000\n",
      "Epoch 136/250\n",
      "1/1 [==============================] - 6s 6s/step - loss: 0.0382 - accuracy: 0.9956 - val_loss: 0.0062 - val_accuracy: 1.0000\n",
      "Epoch 137/250\n",
      "1/1 [==============================] - 6s 6s/step - loss: 0.0405 - accuracy: 0.9912 - val_loss: 0.0061 - val_accuracy: 1.0000\n",
      "Epoch 138/250\n",
      "1/1 [==============================] - 6s 6s/step - loss: 0.0423 - accuracy: 0.9912 - val_loss: 0.0058 - val_accuracy: 1.0000\n",
      "Epoch 139/250\n",
      "1/1 [==============================] - 6s 6s/step - loss: 0.0408 - accuracy: 1.0000 - val_loss: 0.0055 - val_accuracy: 1.0000\n",
      "Epoch 140/250\n",
      "1/1 [==============================] - 6s 6s/step - loss: 0.0428 - accuracy: 0.9825 - val_loss: 0.0053 - val_accuracy: 1.0000\n",
      "Epoch 141/250\n",
      "1/1 [==============================] - 6s 6s/step - loss: 0.0429 - accuracy: 0.9868 - val_loss: 0.0052 - val_accuracy: 1.0000\n",
      "Epoch 142/250\n",
      "1/1 [==============================] - 6s 6s/step - loss: 0.0274 - accuracy: 1.0000 - val_loss: 0.0051 - val_accuracy: 1.0000\n",
      "Epoch 143/250\n",
      "1/1 [==============================] - 6s 6s/step - loss: 0.0397 - accuracy: 1.0000 - val_loss: 0.0049 - val_accuracy: 1.0000\n",
      "Epoch 144/250\n",
      "1/1 [==============================] - 6s 6s/step - loss: 0.0219 - accuracy: 1.0000 - val_loss: 0.0047 - val_accuracy: 1.0000\n",
      "Epoch 145/250\n",
      "1/1 [==============================] - 6s 6s/step - loss: 0.0282 - accuracy: 0.9956 - val_loss: 0.0043 - val_accuracy: 1.0000\n",
      "Epoch 146/250\n",
      "1/1 [==============================] - 6s 6s/step - loss: 0.0468 - accuracy: 0.9868 - val_loss: 0.0040 - val_accuracy: 1.0000\n",
      "Epoch 147/250\n",
      "1/1 [==============================] - 6s 6s/step - loss: 0.0277 - accuracy: 1.0000 - val_loss: 0.0038 - val_accuracy: 1.0000\n",
      "Epoch 148/250\n",
      "1/1 [==============================] - 6s 6s/step - loss: 0.0333 - accuracy: 0.9912 - val_loss: 0.0037 - val_accuracy: 1.0000\n",
      "Epoch 149/250\n",
      "1/1 [==============================] - 6s 6s/step - loss: 0.0351 - accuracy: 0.9912 - val_loss: 0.0035 - val_accuracy: 1.0000\n",
      "Epoch 150/250\n",
      "1/1 [==============================] - 6s 6s/step - loss: 0.0206 - accuracy: 1.0000 - val_loss: 0.0033 - val_accuracy: 1.0000\n",
      "Epoch 151/250\n",
      "1/1 [==============================] - 6s 6s/step - loss: 0.0389 - accuracy: 0.9956 - val_loss: 0.0030 - val_accuracy: 1.0000\n",
      "Epoch 152/250\n",
      "1/1 [==============================] - 6s 6s/step - loss: 0.0478 - accuracy: 0.9737 - val_loss: 0.0029 - val_accuracy: 1.0000\n",
      "Epoch 153/250\n",
      "1/1 [==============================] - 6s 6s/step - loss: 0.0272 - accuracy: 0.9956 - val_loss: 0.0028 - val_accuracy: 1.0000\n",
      "Epoch 154/250\n",
      "1/1 [==============================] - 6s 6s/step - loss: 0.0330 - accuracy: 0.9956 - val_loss: 0.0028 - val_accuracy: 1.0000\n",
      "Epoch 155/250\n",
      "1/1 [==============================] - 6s 6s/step - loss: 0.0277 - accuracy: 0.9956 - val_loss: 0.0026 - val_accuracy: 1.0000\n",
      "Epoch 156/250\n",
      "1/1 [==============================] - 6s 6s/step - loss: 0.0460 - accuracy: 0.9912 - val_loss: 0.0023 - val_accuracy: 1.0000\n",
      "Epoch 157/250\n",
      "1/1 [==============================] - 6s 6s/step - loss: 0.0418 - accuracy: 0.9956 - val_loss: 0.0022 - val_accuracy: 1.0000\n",
      "Epoch 158/250\n",
      "1/1 [==============================] - 6s 6s/step - loss: 0.0311 - accuracy: 0.9868 - val_loss: 0.0020 - val_accuracy: 1.0000\n",
      "Epoch 159/250\n",
      "1/1 [==============================] - 6s 6s/step - loss: 0.0269 - accuracy: 0.9956 - val_loss: 0.0019 - val_accuracy: 1.0000\n",
      "Epoch 160/250\n",
      "1/1 [==============================] - 6s 6s/step - loss: 0.0241 - accuracy: 1.0000 - val_loss: 0.0019 - val_accuracy: 1.0000\n",
      "Epoch 161/250\n",
      "1/1 [==============================] - 6s 6s/step - loss: 0.0349 - accuracy: 0.9912 - val_loss: 0.0019 - val_accuracy: 1.0000\n",
      "Epoch 162/250\n",
      "1/1 [==============================] - 6s 6s/step - loss: 0.0314 - accuracy: 0.9956 - val_loss: 0.0020 - val_accuracy: 1.0000\n",
      "Epoch 163/250\n",
      "1/1 [==============================] - 6s 6s/step - loss: 0.0146 - accuracy: 1.0000 - val_loss: 0.0021 - val_accuracy: 1.0000\n",
      "Epoch 164/250\n",
      "1/1 [==============================] - 6s 6s/step - loss: 0.0266 - accuracy: 0.9912 - val_loss: 0.0022 - val_accuracy: 1.0000\n",
      "Epoch 165/250\n",
      "1/1 [==============================] - 6s 6s/step - loss: 0.0395 - accuracy: 0.9912 - val_loss: 0.0021 - val_accuracy: 1.0000\n",
      "Epoch 166/250\n",
      "1/1 [==============================] - 6s 6s/step - loss: 0.0223 - accuracy: 1.0000 - val_loss: 0.0021 - val_accuracy: 1.0000\n",
      "Epoch 167/250\n",
      "1/1 [==============================] - 6s 6s/step - loss: 0.0338 - accuracy: 0.9912 - val_loss: 0.0023 - val_accuracy: 1.0000\n",
      "Epoch 168/250\n",
      "1/1 [==============================] - 6s 6s/step - loss: 0.0143 - accuracy: 1.0000 - val_loss: 0.0024 - val_accuracy: 1.0000\n",
      "Epoch 169/250\n",
      "1/1 [==============================] - 6s 6s/step - loss: 0.0288 - accuracy: 0.9868 - val_loss: 0.0024 - val_accuracy: 1.0000\n",
      "Epoch 170/250\n",
      "1/1 [==============================] - 6s 6s/step - loss: 0.0274 - accuracy: 0.9956 - val_loss: 0.0023 - val_accuracy: 1.0000\n",
      "Epoch 171/250\n",
      "1/1 [==============================] - 6s 6s/step - loss: 0.0265 - accuracy: 1.0000 - val_loss: 0.0021 - val_accuracy: 1.0000\n",
      "Epoch 172/250\n",
      "1/1 [==============================] - 6s 6s/step - loss: 0.0216 - accuracy: 0.9912 - val_loss: 0.0019 - val_accuracy: 1.0000\n",
      "Epoch 173/250\n",
      "1/1 [==============================] - 6s 6s/step - loss: 0.0161 - accuracy: 1.0000 - val_loss: 0.0018 - val_accuracy: 1.0000\n",
      "Epoch 174/250\n",
      "1/1 [==============================] - 6s 6s/step - loss: 0.0190 - accuracy: 1.0000 - val_loss: 0.0017 - val_accuracy: 1.0000\n",
      "Epoch 175/250\n",
      "1/1 [==============================] - 6s 6s/step - loss: 0.0345 - accuracy: 0.9912 - val_loss: 0.0017 - val_accuracy: 1.0000\n",
      "Epoch 176/250\n",
      "1/1 [==============================] - 6s 6s/step - loss: 0.0298 - accuracy: 0.9956 - val_loss: 0.0016 - val_accuracy: 1.0000\n",
      "Epoch 177/250\n",
      "1/1 [==============================] - 6s 6s/step - loss: 0.0228 - accuracy: 1.0000 - val_loss: 0.0016 - val_accuracy: 1.0000\n",
      "Epoch 178/250\n",
      "1/1 [==============================] - 6s 6s/step - loss: 0.0260 - accuracy: 0.9956 - val_loss: 0.0017 - val_accuracy: 1.0000\n",
      "Epoch 179/250\n",
      "1/1 [==============================] - 6s 6s/step - loss: 0.0174 - accuracy: 0.9956 - val_loss: 0.0019 - val_accuracy: 1.0000\n",
      "Epoch 180/250\n",
      "1/1 [==============================] - 6s 6s/step - loss: 0.0194 - accuracy: 1.0000 - val_loss: 0.0021 - val_accuracy: 1.0000\n",
      "Epoch 181/250\n",
      "1/1 [==============================] - 6s 6s/step - loss: 0.0118 - accuracy: 1.0000 - val_loss: 0.0023 - val_accuracy: 1.0000\n",
      "Epoch 182/250\n",
      "1/1 [==============================] - 6s 6s/step - loss: 0.0215 - accuracy: 0.9956 - val_loss: 0.0025 - val_accuracy: 1.0000\n",
      "Epoch 183/250\n",
      "1/1 [==============================] - 6s 6s/step - loss: 0.0258 - accuracy: 0.9956 - val_loss: 0.0025 - val_accuracy: 1.0000\n",
      "Epoch 184/250\n",
      "1/1 [==============================] - 6s 6s/step - loss: 0.0205 - accuracy: 0.9956 - val_loss: 0.0026 - val_accuracy: 1.0000\n",
      "Epoch 185/250\n",
      "1/1 [==============================] - 6s 6s/step - loss: 0.0156 - accuracy: 1.0000 - val_loss: 0.0027 - val_accuracy: 1.0000\n",
      "Epoch 186/250\n",
      "1/1 [==============================] - 6s 6s/step - loss: 0.0091 - accuracy: 1.0000 - val_loss: 0.0026 - val_accuracy: 1.0000\n",
      "Epoch 187/250\n",
      "1/1 [==============================] - 6s 6s/step - loss: 0.0150 - accuracy: 1.0000 - val_loss: 0.0025 - val_accuracy: 1.0000\n",
      "Epoch 188/250\n",
      "1/1 [==============================] - 6s 6s/step - loss: 0.0190 - accuracy: 0.9956 - val_loss: 0.0024 - val_accuracy: 1.0000\n",
      "Epoch 189/250\n",
      "1/1 [==============================] - 6s 6s/step - loss: 0.0219 - accuracy: 0.9956 - val_loss: 0.0024 - val_accuracy: 1.0000\n",
      "Epoch 190/250\n",
      "1/1 [==============================] - 6s 6s/step - loss: 0.0109 - accuracy: 1.0000 - val_loss: 0.0023 - val_accuracy: 1.0000\n",
      "Epoch 191/250\n",
      "1/1 [==============================] - 6s 6s/step - loss: 0.0154 - accuracy: 1.0000 - val_loss: 0.0022 - val_accuracy: 1.0000\n",
      "Epoch 192/250\n",
      "1/1 [==============================] - 6s 6s/step - loss: 0.0156 - accuracy: 1.0000 - val_loss: 0.0020 - val_accuracy: 1.0000\n",
      "Epoch 193/250\n",
      "1/1 [==============================] - 6s 6s/step - loss: 0.0221 - accuracy: 0.9912 - val_loss: 0.0018 - val_accuracy: 1.0000\n",
      "Epoch 194/250\n",
      "1/1 [==============================] - 6s 6s/step - loss: 0.0211 - accuracy: 0.9956 - val_loss: 0.0018 - val_accuracy: 1.0000\n",
      "Epoch 195/250\n",
      "1/1 [==============================] - 6s 6s/step - loss: 0.0286 - accuracy: 0.9956 - val_loss: 0.0017 - val_accuracy: 1.0000\n",
      "Epoch 196/250\n",
      "1/1 [==============================] - 6s 6s/step - loss: 0.0223 - accuracy: 0.9956 - val_loss: 0.0018 - val_accuracy: 1.0000\n",
      "Epoch 197/250\n",
      "1/1 [==============================] - 6s 6s/step - loss: 0.0135 - accuracy: 0.9956 - val_loss: 0.0018 - val_accuracy: 1.0000\n",
      "Epoch 198/250\n",
      "1/1 [==============================] - 6s 6s/step - loss: 0.0109 - accuracy: 1.0000 - val_loss: 0.0017 - val_accuracy: 1.0000\n",
      "Epoch 199/250\n",
      "1/1 [==============================] - 6s 6s/step - loss: 0.0202 - accuracy: 0.9912 - val_loss: 0.0012 - val_accuracy: 1.0000\n",
      "Epoch 200/250\n",
      "1/1 [==============================] - 6s 6s/step - loss: 0.0150 - accuracy: 1.0000 - val_loss: 8.9995e-04 - val_accuracy: 1.0000\n",
      "Epoch 201/250\n",
      "1/1 [==============================] - 6s 6s/step - loss: 0.0140 - accuracy: 1.0000 - val_loss: 7.3116e-04 - val_accuracy: 1.0000\n",
      "Epoch 202/250\n",
      "1/1 [==============================] - 6s 6s/step - loss: 0.0197 - accuracy: 0.9956 - val_loss: 7.1932e-04 - val_accuracy: 1.0000\n",
      "Epoch 203/250\n",
      "1/1 [==============================] - 6s 6s/step - loss: 0.0161 - accuracy: 1.0000 - val_loss: 7.3855e-04 - val_accuracy: 1.0000\n",
      "Epoch 204/250\n",
      "1/1 [==============================] - 6s 6s/step - loss: 0.0216 - accuracy: 0.9956 - val_loss: 7.1052e-04 - val_accuracy: 1.0000\n",
      "Epoch 205/250\n",
      "1/1 [==============================] - 6s 6s/step - loss: 0.0191 - accuracy: 0.9956 - val_loss: 7.3597e-04 - val_accuracy: 1.0000\n",
      "Epoch 206/250\n",
      "1/1 [==============================] - 6s 6s/step - loss: 0.0180 - accuracy: 0.9956 - val_loss: 8.0442e-04 - val_accuracy: 1.0000\n",
      "Epoch 207/250\n",
      "1/1 [==============================] - 6s 6s/step - loss: 0.0198 - accuracy: 0.9912 - val_loss: 9.6412e-04 - val_accuracy: 1.0000\n",
      "Epoch 208/250\n",
      "1/1 [==============================] - 6s 6s/step - loss: 0.0316 - accuracy: 0.9868 - val_loss: 0.0011 - val_accuracy: 1.0000\n",
      "Epoch 209/250\n",
      "1/1 [==============================] - 6s 6s/step - loss: 0.0206 - accuracy: 0.9956 - val_loss: 0.0011 - val_accuracy: 1.0000\n",
      "Epoch 210/250\n",
      "1/1 [==============================] - 6s 6s/step - loss: 0.0144 - accuracy: 0.9956 - val_loss: 0.0011 - val_accuracy: 1.0000\n",
      "Epoch 211/250\n",
      "1/1 [==============================] - 6s 6s/step - loss: 0.0113 - accuracy: 1.0000 - val_loss: 0.0011 - val_accuracy: 1.0000\n",
      "Epoch 212/250\n",
      "1/1 [==============================] - 6s 6s/step - loss: 0.0104 - accuracy: 1.0000 - val_loss: 0.0012 - val_accuracy: 1.0000\n",
      "Epoch 213/250\n",
      "1/1 [==============================] - 6s 6s/step - loss: 0.0219 - accuracy: 0.9912 - val_loss: 0.0013 - val_accuracy: 1.0000\n",
      "Epoch 214/250\n",
      "1/1 [==============================] - 6s 6s/step - loss: 0.0238 - accuracy: 0.9912 - val_loss: 0.0013 - val_accuracy: 1.0000\n",
      "Epoch 215/250\n",
      "1/1 [==============================] - 6s 6s/step - loss: 0.0133 - accuracy: 1.0000 - val_loss: 0.0013 - val_accuracy: 1.0000\n",
      "Epoch 216/250\n",
      "1/1 [==============================] - 6s 6s/step - loss: 0.0157 - accuracy: 1.0000 - val_loss: 0.0012 - val_accuracy: 1.0000\n",
      "Epoch 217/250\n",
      "1/1 [==============================] - 6s 6s/step - loss: 0.0128 - accuracy: 1.0000 - val_loss: 0.0012 - val_accuracy: 1.0000\n",
      "Epoch 218/250\n",
      "1/1 [==============================] - 6s 6s/step - loss: 0.0082 - accuracy: 1.0000 - val_loss: 0.0014 - val_accuracy: 1.0000\n",
      "Epoch 219/250\n",
      "1/1 [==============================] - 6s 6s/step - loss: 0.0081 - accuracy: 1.0000 - val_loss: 0.0015 - val_accuracy: 1.0000\n",
      "Epoch 220/250\n",
      "1/1 [==============================] - 6s 6s/step - loss: 0.0131 - accuracy: 1.0000 - val_loss: 0.0016 - val_accuracy: 1.0000\n",
      "Epoch 221/250\n",
      "1/1 [==============================] - 6s 6s/step - loss: 0.0127 - accuracy: 1.0000 - val_loss: 0.0016 - val_accuracy: 1.0000\n",
      "Epoch 222/250\n",
      "1/1 [==============================] - 6s 6s/step - loss: 0.0220 - accuracy: 0.9956 - val_loss: 0.0015 - val_accuracy: 1.0000\n",
      "Epoch 223/250\n",
      "1/1 [==============================] - 6s 6s/step - loss: 0.0104 - accuracy: 1.0000 - val_loss: 0.0012 - val_accuracy: 1.0000\n",
      "Epoch 224/250\n",
      "1/1 [==============================] - 6s 6s/step - loss: 0.0094 - accuracy: 1.0000 - val_loss: 0.0011 - val_accuracy: 1.0000\n",
      "Epoch 225/250\n",
      "1/1 [==============================] - 6s 6s/step - loss: 0.0087 - accuracy: 1.0000 - val_loss: 9.0490e-04 - val_accuracy: 1.0000\n",
      "Epoch 226/250\n",
      "1/1 [==============================] - 6s 6s/step - loss: 0.0123 - accuracy: 1.0000 - val_loss: 7.7929e-04 - val_accuracy: 1.0000\n",
      "Epoch 227/250\n",
      "1/1 [==============================] - 6s 6s/step - loss: 0.0136 - accuracy: 0.9956 - val_loss: 6.7721e-04 - val_accuracy: 1.0000\n",
      "Epoch 228/250\n",
      "1/1 [==============================] - 6s 6s/step - loss: 0.0205 - accuracy: 0.9956 - val_loss: 6.2449e-04 - val_accuracy: 1.0000\n",
      "Epoch 229/250\n",
      "1/1 [==============================] - 6s 6s/step - loss: 0.0183 - accuracy: 1.0000 - val_loss: 6.0316e-04 - val_accuracy: 1.0000\n",
      "Epoch 230/250\n",
      "1/1 [==============================] - 6s 6s/step - loss: 0.0130 - accuracy: 1.0000 - val_loss: 5.8299e-04 - val_accuracy: 1.0000\n",
      "Epoch 231/250\n",
      "1/1 [==============================] - 6s 6s/step - loss: 0.0150 - accuracy: 0.9956 - val_loss: 5.8709e-04 - val_accuracy: 1.0000\n",
      "Epoch 232/250\n",
      "1/1 [==============================] - 6s 6s/step - loss: 0.0088 - accuracy: 1.0000 - val_loss: 5.9680e-04 - val_accuracy: 1.0000\n",
      "Epoch 233/250\n",
      "1/1 [==============================] - 6s 6s/step - loss: 0.0043 - accuracy: 1.0000 - val_loss: 6.1519e-04 - val_accuracy: 1.0000\n",
      "Epoch 234/250\n",
      "1/1 [==============================] - 6s 6s/step - loss: 0.0137 - accuracy: 1.0000 - val_loss: 6.0642e-04 - val_accuracy: 1.0000\n",
      "Epoch 235/250\n",
      "1/1 [==============================] - 6s 6s/step - loss: 0.0117 - accuracy: 1.0000 - val_loss: 5.9338e-04 - val_accuracy: 1.0000\n",
      "Epoch 236/250\n",
      "1/1 [==============================] - 6s 6s/step - loss: 0.0093 - accuracy: 1.0000 - val_loss: 6.0054e-04 - val_accuracy: 1.0000\n",
      "Epoch 237/250\n",
      "1/1 [==============================] - 6s 6s/step - loss: 0.0116 - accuracy: 1.0000 - val_loss: 6.1987e-04 - val_accuracy: 1.0000\n",
      "Epoch 238/250\n",
      "1/1 [==============================] - 6s 6s/step - loss: 0.0123 - accuracy: 0.9956 - val_loss: 6.2491e-04 - val_accuracy: 1.0000\n",
      "Epoch 239/250\n",
      "1/1 [==============================] - 6s 6s/step - loss: 0.0084 - accuracy: 1.0000 - val_loss: 6.1308e-04 - val_accuracy: 1.0000\n",
      "Epoch 240/250\n",
      "1/1 [==============================] - 6s 6s/step - loss: 0.0080 - accuracy: 1.0000 - val_loss: 5.6524e-04 - val_accuracy: 1.0000\n",
      "Epoch 241/250\n",
      "1/1 [==============================] - 6s 6s/step - loss: 0.0049 - accuracy: 1.0000 - val_loss: 5.2539e-04 - val_accuracy: 1.0000\n",
      "Epoch 242/250\n",
      "1/1 [==============================] - 6s 6s/step - loss: 0.0123 - accuracy: 0.9956 - val_loss: 4.7281e-04 - val_accuracy: 1.0000\n",
      "Epoch 243/250\n",
      "1/1 [==============================] - 6s 6s/step - loss: 0.0055 - accuracy: 1.0000 - val_loss: 4.2608e-04 - val_accuracy: 1.0000\n",
      "Epoch 244/250\n",
      "1/1 [==============================] - 6s 6s/step - loss: 0.0076 - accuracy: 1.0000 - val_loss: 3.8815e-04 - val_accuracy: 1.0000\n",
      "Epoch 245/250\n",
      "1/1 [==============================] - 6s 6s/step - loss: 0.0116 - accuracy: 1.0000 - val_loss: 3.6339e-04 - val_accuracy: 1.0000\n",
      "Epoch 246/250\n",
      "1/1 [==============================] - 6s 6s/step - loss: 0.0108 - accuracy: 1.0000 - val_loss: 3.3624e-04 - val_accuracy: 1.0000\n",
      "Epoch 247/250\n",
      "1/1 [==============================] - 6s 6s/step - loss: 0.0162 - accuracy: 0.9912 - val_loss: 3.2975e-04 - val_accuracy: 1.0000\n",
      "Epoch 248/250\n",
      "1/1 [==============================] - 6s 6s/step - loss: 0.0078 - accuracy: 0.9956 - val_loss: 3.2835e-04 - val_accuracy: 1.0000\n",
      "Epoch 249/250\n",
      "1/1 [==============================] - 6s 6s/step - loss: 0.0128 - accuracy: 1.0000 - val_loss: 3.3946e-04 - val_accuracy: 1.0000\n",
      "Epoch 250/250\n",
      "1/1 [==============================] - 6s 6s/step - loss: 0.0050 - accuracy: 1.0000 - val_loss: 3.5579e-04 - val_accuracy: 1.0000\n"
     ]
    }
   ],
   "source": [
    "history = CNN_model.fit(x_train,y_train,\n",
    "                        epochs=250,\n",
    "                        batch_size=512,\n",
    "                        verbose=1,\n",
    "                        validation_data=(x_valid,y_valid)\n",
    "                       )"
   ]
  },
  {
   "cell_type": "code",
   "execution_count": 9,
   "metadata": {},
   "outputs": [
    {
     "name": "stdout",
     "output_type": "stream",
     "text": [
      "5/5 [==============================] - 1s 209ms/step - loss: 0.2846 - accuracy: 0.9312\n"
     ]
    }
   ],
   "source": [
    "score = CNN_model.evaluate(x_test,y_test)"
   ]
  },
  {
   "cell_type": "code",
   "execution_count": 10,
   "metadata": {},
   "outputs": [
    {
     "name": "stdout",
     "output_type": "stream",
     "text": [
      "Test loss: 0.2846294939517975\n",
      "Test Accuracy: 0.9312499761581421\n"
     ]
    }
   ],
   "source": [
    "print('Test loss:',score[0])\n",
    "print('Test Accuracy:',score[1])"
   ]
  },
  {
   "cell_type": "markdown",
   "metadata": {},
   "source": [
    "### Step7 : Plot the results"
   ]
  },
  {
   "cell_type": "code",
   "execution_count": 11,
   "metadata": {},
   "outputs": [
    {
     "name": "stdout",
     "output_type": "stream",
     "text": [
      "dict_keys(['loss', 'accuracy', 'val_loss', 'val_accuracy'])\n"
     ]
    },
    {
     "data": {
      "image/png": "[encoded data removed]",
      "text/plain": [
       "<Figure size 432x288 with 1 Axes>"
      ]
     },
     "metadata": {
      "needs_background": "light"
     },
     "output_type": "display_data"
    },
    {
     "data": {
      "image/png": "[encoded data removed]",
      "text/plain": [
       "<Figure size 432x288 with 1 Axes>"
      ]
     },
     "metadata": {
      "needs_background": "light"
     },
     "output_type": "display_data"
    }
   ],
   "source": [
    "# list all the data in history\n",
    "print(history.history.keys())\n",
    "# Summarize history for accuracy\n",
    "plt.plot(history.history['accuracy'])\n",
    "plt.plot(history.history['val_accuracy'])\n",
    "plt.title('Model accuracy')\n",
    "plt.ylabel('accuracy')\n",
    "plt.xlabel('epoch')\n",
    "plt.legend(['Train','Test'],loc='upper left')\n",
    "plt.show()\n",
    "# Smmarize history for loss\n",
    "plt.plot(history.history['loss'])\n",
    "plt.plot(history.history['val_loss'])\n",
    "plt.title('model loss')\n",
    "plt.ylabel('loss')\n",
    "plt.xlabel('epoch')\n",
    "plt.show()"
   ]
  },
  {
   "cell_type": "markdown",
   "metadata": {},
   "source": [
    "### Step8 : Iterate the model until the accuracy is above 90%"
   ]
  },
  {
   "cell_type": "code",
   "execution_count": 12,
   "metadata": {},
   "outputs": [],
   "source": [
    "import tensorflow\n",
    "y_test1 = tensorflow.keras.utils.to_categorical(y_test, 20)"
   ]
  },
  {
   "cell_type": "code",
   "execution_count": 13,
   "metadata": {},
   "outputs": [
    {
     "name": "stdout",
     "output_type": "stream",
     "text": [
      "[ 0  0  0  0  0  0  0  0  1  1  1  1  1  1  1  1  2  2  2  2  2  2  2  2\n",
      "  3  3  3  3  3  3  3  3  4  4  4  4  4  4  4  4  5  5  5  5  5  5  5  5\n",
      "  6  6  6  6  6  6  6  6  7  7  7  7  7  7  7  7  8  8  8  8  8  8  8  8\n",
      "  9  9  9  9  9  9  9  9 10 10 10 10 10 10 10 10 11 11 11 11 11 11 11 11\n",
      " 12 12 12 12 12 12 12 12 13 13 13 13 13 13 13 13 14 14 14 14 14 14 14 14\n",
      " 15 15 15 15 15 15 15 15 16 16 16 16 16 16 16 16 17 17 17 17 17 17 17 17\n",
      " 18 18 18 18 18 18 18 18 19 19 19 19 19 19 19 19]\n",
      "[[9.99518156e-01 1.28600281e-04 1.86170510e-08 ... 4.42749865e-07\n",
      "  8.10826605e-05 3.70250604e-08]\n",
      " [9.89057600e-01 4.66312340e-05 2.65192810e-08 ... 1.63644108e-06\n",
      "  2.64760110e-05 4.26009628e-08]\n",
      " [9.93820608e-01 2.60221350e-05 6.31762802e-08 ... 1.71903812e-05\n",
      "  3.68201363e-05 1.10531744e-07]\n",
      " ...\n",
      " [1.66919577e-07 6.80659468e-07 1.80071779e-02 ... 1.74451343e-04\n",
      "  1.45277426e-08 9.73228216e-01]\n",
      " [2.03987565e-08 3.52956064e-08 4.12072707e-03 ... 4.23528672e-06\n",
      "  2.71675682e-09 9.94928241e-01]\n",
      " [2.63075228e-10 2.45867460e-09 1.86094660e-08 ... 4.91780172e-09\n",
      "  5.77351708e-12 9.99999285e-01]]\n"
     ]
    }
   ],
   "source": [
    "predicted = CNN_model.predict(x_test)\n",
    "print(y_test)\n",
    "print(predicted)"
   ]
  },
  {
   "cell_type": "code",
   "execution_count": 19,
   "metadata": {},
   "outputs": [],
   "source": [
    "Y_pred = CNN_model.predict(x_valid)\n",
    "#print('Accuracy is :',accuracy_score(y_valid,y_pred)"
   ]
  },
  {
   "cell_type": "code",
   "execution_count": 23,
   "metadata": {},
   "outputs": [],
   "source": [
    "y_pred = (Y_pred > 0.5) * 1.0\n",
    "#y_pred = y_pred.reshape(y_valid.shape)\n",
    "#y_pred.sum()"
   ]
  },
  {
   "cell_type": "code",
   "execution_count": 28,
   "metadata": {},
   "outputs": [
    {
     "name": "stdout",
     "output_type": "stream",
     "text": [
      "accuracy : \n",
      "0.93125\n"
     ]
    }
   ],
   "source": [
    "predicted =np.array( CNN_model.predict(x_test))\n",
    "#print(predicted)\n",
    "#print(y_test)\n",
    "ynew = np.argmax(CNN_model.predict(x_test), axis=-1)\n",
    "\n",
    "\n",
    "Acc=accuracy_score(y_test, ynew)\n",
    "print(\"accuracy : \")\n",
    "print(Acc)\n",
    "#/tn, fp, fn, tp = confusion_matrix(np.array(y_test), ynew).ravel()\n",
    "cnf_matrix=confusion_matrix(np.array(y_test), ynew)"
   ]
  },
  {
   "cell_type": "code",
   "execution_count": null,
   "metadata": {},
   "outputs": [],
   "source": []
  }
 ],
 "metadata": {
  "kernelspec": {
   "display_name": "Python 3",
   "language": "python",
   "name": "python3"
  },
  "language_info": {
   "codemirror_mode": {
    "name": "ipython",
    "version": 3
   },
   "file_extension": ".py",
   "mimetype": "text/x-python",
   "name": "python",
   "nbconvert_exporter": "python",
   "pygments_lexer": "ipython3",
   "version": "3.7.6"
  }
 },
 "nbformat": 4,
 "nbformat_minor": 4
}
